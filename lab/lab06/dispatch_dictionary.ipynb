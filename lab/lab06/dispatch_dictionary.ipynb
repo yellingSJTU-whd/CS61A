{
 "cells": [
  {
   "cell_type": "code",
   "execution_count": null,
   "outputs": [],
   "source": [
    "def account(initial_balance):\n",
    "    def deposit(amount):\n",
    "        dispatch['balance'] += amount\n",
    "        return dispatch['balance']\n",
    "    def withdraw(amount):\n",
    "        if amount > dispatch['balance']:\n",
    "            return 'Insufficient funds'\n",
    "        dispatch['balance'] -= amount\n",
    "        return dispatch['balance']\n",
    "    dispatch = {'deposit':   deposit,\n",
    "                'withdraw':  withdraw,\n",
    "                'balance':   initial_balance}\n",
    "    return dispatch\n",
    "\n",
    "def withdraw(account, amount):\n",
    "    return account['withdraw'](amount)\n",
    "def deposit(account, amount):\n",
    "    return account['deposit'](amount)\n",
    "def check_balance(account):\n",
    "    return account['balance']\n",
    "\n",
    "a = account(20)\n",
    "deposit(a, 5)\n",
    "withdraw(a, 17)\n",
    "check_balance(a)\n"
   ],
   "metadata": {
    "collapsed": false,
    "pycharm": {
     "name": "#%%\n"
    }
   }
  },
  {
   "cell_type": "code",
   "execution_count": null,
   "outputs": [],
   "source": [
    "celsius = connector('Celsius')\n",
    "fahrenheit = connector('Fahrenheit')\n",
    "\n",
    "def converter(c, f):\n",
    "        \"\"\"Connect c to f with constraints to convert from Celsius to Fahrenheit.\"\"\"\n",
    "        u, v, w, x, y = [connector() for _ in range(5)]\n",
    "        multiplier(c, w, u)\n",
    "        multiplier(v, x, u)\n",
    "        adder(v, y, f)\n",
    "        constant(w, 9)\n",
    "        constant(x, 5)\n",
    "        constant(y, 32)\n",
    "\n",
    "converter(celsius, fahrenheit)\n",
    "\n",
    "from operator import add, sub\n",
    "def adder(a, b, c):\n",
    "        \"\"\"The constraint that a + b = c.\"\"\"\n",
    "        return make_ternary_constraint(a, b, c, add, sub, sub)\n",
    "\n",
    "def make_ternary_constraint(a, b, c, ab, ca, cb):\n",
    "        \"\"\"The constraint that ab(a,b)=c and ca(c,a)=b and cb(c,b) = a.\"\"\"\n",
    "        def new_value():\n",
    "            av, bv, cv = [connector['has_val']() for connector in (a, b, c)]\n",
    "            if av and bv:\n",
    "                c['set_val'](constraint, ab(a['val'], b['val']))\n",
    "            elif av and cv:\n",
    "                b['set_val'](constraint, ca(c['val'], a['val']))\n",
    "            elif bv and cv:\n",
    "                a['set_val'](constraint, cb(c['val'], b['val']))\n",
    "        def forget_value():\n",
    "            for connector in (a, b, c):\n",
    "                connector['forget'](constraint)\n",
    "        constraint = {'new_val': new_value, 'forget': forget_value}\n",
    "        for connector in (a, b, c):\n",
    "            connector['connect'](constraint)\n",
    "        return constraint\n",
    "\n",
    "from operator import mul, truediv\n",
    "def multiplier(a, b, c):\n",
    "        \"\"\"The constraint that a * b = c.\"\"\"\n",
    "        return make_ternary_constraint(a, b, c, mul, truediv, truediv)\n",
    "\n",
    "def constant(connector, value):\n",
    "        \"\"\"The constraint that connector = value.\"\"\"\n",
    "        constraint = {}\n",
    "        connector['set_val'](constraint, value)\n",
    "        return constraint\n",
    "\n",
    "def connector(name=None):\n",
    "        \"\"\"A connector between constraints.\"\"\"\n",
    "        informant = None\n",
    "        constraints = []\n",
    "        def set_value(source, value):\n",
    "            nonlocal informant\n",
    "            val = connector['val']\n",
    "            if val is None:\n",
    "                informant, connector['val'] = source, value\n",
    "                if name is not None:\n",
    "                    print(name, '=', value)\n",
    "                inform_all_except(source, 'new_val', constraints)\n",
    "            else:\n",
    "                if val != value:\n",
    "                    print('Contradiction detected:', val, 'vs', value)\n",
    "        def forget_value(source):\n",
    "            nonlocal informant\n",
    "            if informant == source:\n",
    "                informant, connector['val'] = None, None\n",
    "                if name is not None:\n",
    "                    print(name, 'is forgotten')\n",
    "                inform_all_except(source, 'forget', constraints)\n",
    "        connector = {'val': None,\n",
    "                     'set_val': set_value,\n",
    "                     'forget': forget_value,\n",
    "                     'has_val': lambda: connector['val'] is not None,\n",
    "                     'connect': lambda source: constraints.append(source)}\n",
    "        return connector\n",
    "\n",
    "def inform_all_except(source, message, constraints):\n",
    "        \"\"\"Inform all constraints of the message, except source.\"\"\"\n",
    "        for c in constraints:\n",
    "            if c != source:\n",
    "                c[message]()"
   ],
   "metadata": {
    "collapsed": false,
    "pycharm": {
     "name": "#%%\n"
    }
   }
  },
  {
   "cell_type": "markdown",
   "source": [],
   "metadata": {
    "collapsed": false,
    "pycharm": {
     "name": "#%% md\n"
    }
   }
  }
 ],
 "metadata": {
  "kernelspec": {
   "display_name": "Python 3",
   "language": "python",
   "name": "python3"
  },
  "language_info": {
   "codemirror_mode": {
    "name": "ipython",
    "version": 2
   },
   "file_extension": ".py",
   "mimetype": "text/x-python",
   "name": "python",
   "nbconvert_exporter": "python",
   "pygments_lexer": "ipython2",
   "version": "2.7.6"
  }
 },
 "nbformat": 4,
 "nbformat_minor": 0
}
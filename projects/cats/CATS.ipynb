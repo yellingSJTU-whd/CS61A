{
 "cells": [
  {
   "cell_type": "markdown",
   "source": [
    "### Problem 8 (2 pt)\n",
    "\n",
    "Implement `report_progress`, which is called every time the user finishes typing a word. It takes a list of the words `typed`, a list of the words in the `prompt`, the user's `user_id`, and a `send` function that is used to send a progress report to the multiplayer server. Note that there will never be more words in `typed` than in `prompt`.\n",
    "\n",
    "Your progress is a ratio of the words in the `prompt` that you have typed correctly, up to the first incorrect word, divided by the number of `prompt` words. For example, this example has a progress of `0.25`:\n",
    "\n",
    "```\n",
    "report_progress([\"Hello\", \"ths\", \"is\"], [\"Hello\", \"this\", \"is\", \"wrong\"], ...)\n",
    "```\n",
    "\n",
    "Your `report_progress` function should return this number. Before that, it should send a message to the multiplayer server that is a two-element dictionary containing the keys `'id'` and `'progress'`. The `user_id` is passed into `report_progress` from the GUI. The progress is the fraction you compute. Call `send` on this dictionary to send it to the multiplayer server.\n",
    "\n",
    "Before writing any code, unlock the tests to verify your understanding of the question.\n",
    "\n",
    "```\n",
    "python3 ok -q 08 -u\n",
    "```\n",
    "\n",
    "Once you are done unlocking, begin implementing your solution. You can check your correctness with:\n",
    "\n",
    "```\n",
    "python3 ok -q 08\n",
    "```"
   ],
   "metadata": {
    "collapsed": false,
    "pycharm": {
     "name": "#%% md\n"
    }
   }
  }
 ],
 "metadata": {
  "kernelspec": {
   "display_name": "Python 3",
   "language": "python",
   "name": "python3"
  },
  "language_info": {
   "codemirror_mode": {
    "name": "ipython",
    "version": 2
   },
   "file_extension": ".py",
   "mimetype": "text/x-python",
   "name": "python",
   "nbconvert_exporter": "python",
   "pygments_lexer": "ipython2",
   "version": "2.7.6"
  }
 },
 "nbformat": 4,
 "nbformat_minor": 0
}
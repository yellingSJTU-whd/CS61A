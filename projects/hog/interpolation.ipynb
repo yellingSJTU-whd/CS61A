{
 "cells": [
  {
   "cell_type": "markdown",
   "source": [
    "# Python String Interpolation\n",
    "\n",
    "- formatter %\n",
    "- mapping"
   ],
   "metadata": {
    "collapsed": false,
    "pycharm": {
     "name": "#%% md\n"
    }
   }
  },
  {
   "cell_type": "code",
   "execution_count": 1,
   "outputs": [
    {
     "name": "stdout",
     "output_type": "stream",
     "text": [
      "Hello world! This is python.\n"
     ]
    }
   ],
   "source": [
    "a = 'world'\n",
    "b = 'python'\n",
    "string = 'Hello %(name)s! This is %(program)s.' % {'name': a, 'program': b}\n",
    "print(string)"
   ],
   "metadata": {
    "collapsed": false,
    "pycharm": {
     "name": "#%%\n"
    }
   }
  }
 ],
 "metadata": {
  "kernelspec": {
   "display_name": "Python 3",
   "language": "python",
   "name": "python3"
  },
  "language_info": {
   "codemirror_mode": {
    "name": "ipython",
    "version": 2
   },
   "file_extension": ".py",
   "mimetype": "text/x-python",
   "name": "python",
   "nbconvert_exporter": "python",
   "pygments_lexer": "ipython2",
   "version": "2.7.6"
  }
 },
 "nbformat": 4,
 "nbformat_minor": 0
}
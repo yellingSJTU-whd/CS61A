{
 "cells": [
  {
   "cell_type": "markdown",
   "source": [
    "# Python String Interpolation\n",
    "\n",
    "- formatter %\n",
    "- mapping"
   ],
   "metadata": {
    "collapsed": false,
    "pycharm": {
     "name": "#%% md\n"
    }
   }
  },
  {
   "cell_type": "code",
   "execution_count": 1,
   "outputs": [
    {
     "name": "stdout",
     "output_type": "stream",
     "text": [
      "Hello world! This is python.\n"
     ]
    }
   ],
   "source": [
    "a = 'world'\n",
    "b = 'python'\n",
    "string = 'Hello %(name)s! This is %(program)s.' % {'name': a, 'program': b}\n",
    "print(string)"
   ],
   "metadata": {
    "collapsed": false,
    "pycharm": {
     "name": "#%%\n"
    }
   }
  },
  {
   "cell_type": "markdown",
   "source": [
    "Implement `final_strategy`, which combines these ideas and any other ideas you have to achieve a high win rate against the `always_roll(4)` strategy. Some suggestions:\n",
    "\n",
    "- `extra_turn_strategy` is a good default strategy to start with.\n",
    "\n",
    "- There's no point in scoring more than 100. Check whether you can win by rolling 0, 1 or 2 dice. If you are in the lead, you might take fewer risks.\n",
    "- Try to force extra turns.\n",
    "- Choose the `num_rolls` and `cutoff` arguments carefully.\n",
    "- Take the action that is most likely to win the game."
   ],
   "metadata": {
    "collapsed": false,
    "pycharm": {
     "name": "#%% md\n"
    }
   }
  }
 ],
 "metadata": {
  "kernelspec": {
   "display_name": "Python 3",
   "language": "python",
   "name": "python3"
  },
  "language_info": {
   "codemirror_mode": {
    "name": "ipython",
    "version": 2
   },
   "file_extension": ".py",
   "mimetype": "text/x-python",
   "name": "python",
   "nbconvert_exporter": "python",
   "pygments_lexer": "ipython2",
   "version": "2.7.6"
  }
 },
 "nbformat": 4,
 "nbformat_minor": 0
}